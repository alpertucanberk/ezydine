{
 "cells": [
  {
   "cell_type": "markdown",
   "id": "continued-compilation",
   "metadata": {},
   "source": [
    "# Importing libraries"
   ]
  },
  {
   "cell_type": "code",
   "execution_count": 2,
   "id": "trained-female",
   "metadata": {},
   "outputs": [],
   "source": [
    "import os\n",
    "import warnings\n",
    "import numpy as np\n",
    "import pandas as pd\n",
    "warnings.filterwarnings('ignore')\n",
    "\n",
    "# Data visualisation libraries                                                 \n",
    "import seaborn as sns\n",
    "import matplotlib.pyplot as plt             # for plotting graphs\n",
    "from matplotlib import rcParams             # for validating \n",
    "from folium.plugins import MarkerCluster    # for visualising clusters\n",
    "\n",
    "%matplotlib inline"
   ]
  },
  {
   "cell_type": "code",
   "execution_count": 3,
   "id": "acknowledged-aluminum",
   "metadata": {},
   "outputs": [
    {
     "data": {
      "text/plain": [
       "<function datetime.strptime>"
      ]
     },
     "execution_count": 3,
     "metadata": {},
     "output_type": "execute_result"
    }
   ],
   "source": [
    "import datetime\n",
    "datetime.datetime.strptime"
   ]
  },
  {
   "cell_type": "markdown",
   "id": "developing-roman",
   "metadata": {},
   "source": [
    "# Importing dataset "
   ]
  },
  {
   "cell_type": "code",
   "execution_count": 187,
   "id": "efficient-saturday",
   "metadata": {},
   "outputs": [
    {
     "data": {
      "text/plain": [
       "(20052, 680)"
      ]
     },
     "execution_count": 187,
     "metadata": {},
     "output_type": "execute_result"
    }
   ],
   "source": [
    "food_metadata = pd.read_csv('epi_r.csv')\n",
    "food_metadata.shape"
   ]
  },
  {
   "cell_type": "code",
   "execution_count": 188,
   "id": "standing-consideration",
   "metadata": {},
   "outputs": [
    {
     "data": {
      "text/html": [
       "<div>\n",
       "<style scoped>\n",
       "    .dataframe tbody tr th:only-of-type {\n",
       "        vertical-align: middle;\n",
       "    }\n",
       "\n",
       "    .dataframe tbody tr th {\n",
       "        vertical-align: top;\n",
       "    }\n",
       "\n",
       "    .dataframe thead th {\n",
       "        text-align: right;\n",
       "    }\n",
       "</style>\n",
       "<table border=\"1\" class=\"dataframe\">\n",
       "  <thead>\n",
       "    <tr style=\"text-align: right;\">\n",
       "      <th></th>\n",
       "      <th>title</th>\n",
       "      <th>rating</th>\n",
       "      <th>calories</th>\n",
       "      <th>protein</th>\n",
       "      <th>fat</th>\n",
       "      <th>sodium</th>\n",
       "      <th>#cakeweek</th>\n",
       "      <th>#wasteless</th>\n",
       "      <th>22-minute meals</th>\n",
       "      <th>3-ingredient recipes</th>\n",
       "      <th>...</th>\n",
       "      <th>yellow squash</th>\n",
       "      <th>yogurt</th>\n",
       "      <th>yonkers</th>\n",
       "      <th>yuca</th>\n",
       "      <th>zucchini</th>\n",
       "      <th>cookbooks</th>\n",
       "      <th>leftovers</th>\n",
       "      <th>snack</th>\n",
       "      <th>snack week</th>\n",
       "      <th>turkey</th>\n",
       "    </tr>\n",
       "  </thead>\n",
       "  <tbody>\n",
       "    <tr>\n",
       "      <th>20047</th>\n",
       "      <td>Parmesan Puffs</td>\n",
       "      <td>3.125</td>\n",
       "      <td>28.0</td>\n",
       "      <td>2.0</td>\n",
       "      <td>2.0</td>\n",
       "      <td>64.0</td>\n",
       "      <td>0.0</td>\n",
       "      <td>0.0</td>\n",
       "      <td>0.0</td>\n",
       "      <td>0.0</td>\n",
       "      <td>...</td>\n",
       "      <td>0.0</td>\n",
       "      <td>0.0</td>\n",
       "      <td>0.0</td>\n",
       "      <td>0.0</td>\n",
       "      <td>0.0</td>\n",
       "      <td>0.0</td>\n",
       "      <td>0.0</td>\n",
       "      <td>0.0</td>\n",
       "      <td>0.0</td>\n",
       "      <td>0.0</td>\n",
       "    </tr>\n",
       "    <tr>\n",
       "      <th>20048</th>\n",
       "      <td>Artichoke and Parmesan Risotto</td>\n",
       "      <td>4.375</td>\n",
       "      <td>671.0</td>\n",
       "      <td>22.0</td>\n",
       "      <td>28.0</td>\n",
       "      <td>583.0</td>\n",
       "      <td>0.0</td>\n",
       "      <td>0.0</td>\n",
       "      <td>0.0</td>\n",
       "      <td>0.0</td>\n",
       "      <td>...</td>\n",
       "      <td>0.0</td>\n",
       "      <td>0.0</td>\n",
       "      <td>0.0</td>\n",
       "      <td>0.0</td>\n",
       "      <td>0.0</td>\n",
       "      <td>0.0</td>\n",
       "      <td>0.0</td>\n",
       "      <td>0.0</td>\n",
       "      <td>0.0</td>\n",
       "      <td>0.0</td>\n",
       "    </tr>\n",
       "    <tr>\n",
       "      <th>20049</th>\n",
       "      <td>Turkey Cream Puff Pie</td>\n",
       "      <td>4.375</td>\n",
       "      <td>563.0</td>\n",
       "      <td>31.0</td>\n",
       "      <td>38.0</td>\n",
       "      <td>652.0</td>\n",
       "      <td>0.0</td>\n",
       "      <td>0.0</td>\n",
       "      <td>0.0</td>\n",
       "      <td>0.0</td>\n",
       "      <td>...</td>\n",
       "      <td>0.0</td>\n",
       "      <td>0.0</td>\n",
       "      <td>0.0</td>\n",
       "      <td>0.0</td>\n",
       "      <td>0.0</td>\n",
       "      <td>0.0</td>\n",
       "      <td>0.0</td>\n",
       "      <td>0.0</td>\n",
       "      <td>0.0</td>\n",
       "      <td>1.0</td>\n",
       "    </tr>\n",
       "    <tr>\n",
       "      <th>20050</th>\n",
       "      <td>Snapper on Angel Hair with Citrus Cream</td>\n",
       "      <td>4.375</td>\n",
       "      <td>631.0</td>\n",
       "      <td>45.0</td>\n",
       "      <td>24.0</td>\n",
       "      <td>517.0</td>\n",
       "      <td>0.0</td>\n",
       "      <td>0.0</td>\n",
       "      <td>0.0</td>\n",
       "      <td>0.0</td>\n",
       "      <td>...</td>\n",
       "      <td>0.0</td>\n",
       "      <td>0.0</td>\n",
       "      <td>0.0</td>\n",
       "      <td>0.0</td>\n",
       "      <td>0.0</td>\n",
       "      <td>0.0</td>\n",
       "      <td>0.0</td>\n",
       "      <td>0.0</td>\n",
       "      <td>0.0</td>\n",
       "      <td>0.0</td>\n",
       "    </tr>\n",
       "    <tr>\n",
       "      <th>20051</th>\n",
       "      <td>Baked Ham with Marmalade-Horseradish Glaze</td>\n",
       "      <td>4.375</td>\n",
       "      <td>560.0</td>\n",
       "      <td>73.0</td>\n",
       "      <td>10.0</td>\n",
       "      <td>3698.0</td>\n",
       "      <td>0.0</td>\n",
       "      <td>0.0</td>\n",
       "      <td>0.0</td>\n",
       "      <td>0.0</td>\n",
       "      <td>...</td>\n",
       "      <td>0.0</td>\n",
       "      <td>0.0</td>\n",
       "      <td>0.0</td>\n",
       "      <td>0.0</td>\n",
       "      <td>0.0</td>\n",
       "      <td>0.0</td>\n",
       "      <td>0.0</td>\n",
       "      <td>0.0</td>\n",
       "      <td>0.0</td>\n",
       "      <td>0.0</td>\n",
       "    </tr>\n",
       "  </tbody>\n",
       "</table>\n",
       "<p>5 rows × 680 columns</p>\n",
       "</div>"
      ],
      "text/plain": [
       "                                             title  rating  calories  protein  \\\n",
       "20047                              Parmesan Puffs    3.125      28.0      2.0   \n",
       "20048              Artichoke and Parmesan Risotto    4.375     671.0     22.0   \n",
       "20049                       Turkey Cream Puff Pie    4.375     563.0     31.0   \n",
       "20050     Snapper on Angel Hair with Citrus Cream    4.375     631.0     45.0   \n",
       "20051  Baked Ham with Marmalade-Horseradish Glaze    4.375     560.0     73.0   \n",
       "\n",
       "        fat  sodium  #cakeweek  #wasteless  22-minute meals  \\\n",
       "20047   2.0    64.0        0.0         0.0              0.0   \n",
       "20048  28.0   583.0        0.0         0.0              0.0   \n",
       "20049  38.0   652.0        0.0         0.0              0.0   \n",
       "20050  24.0   517.0        0.0         0.0              0.0   \n",
       "20051  10.0  3698.0        0.0         0.0              0.0   \n",
       "\n",
       "       3-ingredient recipes  ...  yellow squash  yogurt  yonkers  yuca  \\\n",
       "20047                   0.0  ...            0.0     0.0      0.0   0.0   \n",
       "20048                   0.0  ...            0.0     0.0      0.0   0.0   \n",
       "20049                   0.0  ...            0.0     0.0      0.0   0.0   \n",
       "20050                   0.0  ...            0.0     0.0      0.0   0.0   \n",
       "20051                   0.0  ...            0.0     0.0      0.0   0.0   \n",
       "\n",
       "       zucchini  cookbooks  leftovers  snack  snack week  turkey  \n",
       "20047       0.0        0.0        0.0    0.0         0.0     0.0  \n",
       "20048       0.0        0.0        0.0    0.0         0.0     0.0  \n",
       "20049       0.0        0.0        0.0    0.0         0.0     1.0  \n",
       "20050       0.0        0.0        0.0    0.0         0.0     0.0  \n",
       "20051       0.0        0.0        0.0    0.0         0.0     0.0  \n",
       "\n",
       "[5 rows x 680 columns]"
      ]
     },
     "execution_count": 188,
     "metadata": {},
     "output_type": "execute_result"
    }
   ],
   "source": [
    "food_metadata.tail()"
   ]
  },
  {
   "cell_type": "markdown",
   "id": "owned-somewhere",
   "metadata": {},
   "source": [
    "dropping rows with null values from the following columns"
   ]
  },
  {
   "cell_type": "code",
   "execution_count": 189,
   "id": "floppy-furniture",
   "metadata": {},
   "outputs": [
    {
     "data": {
      "text/plain": [
       "(15864, 6)"
      ]
     },
     "execution_count": 189,
     "metadata": {},
     "output_type": "execute_result"
    }
   ],
   "source": [
    "food_metadata = food_metadata.dropna(subset=['calories', 'protein', 'fat', 'sodium'])\n",
    "dftemp = food_metadata[['title', 'rating', 'calories', 'protein', 'fat', 'sodium']]\n",
    "dftemp.shape"
   ]
  },
  {
   "cell_type": "code",
   "execution_count": 190,
   "id": "improved-poverty",
   "metadata": {},
   "outputs": [
    {
     "data": {
      "text/plain": [
       "title       0\n",
       "rating      0\n",
       "calories    0\n",
       "protein     0\n",
       "fat         0\n",
       "sodium      0\n",
       "dtype: int64"
      ]
     },
     "execution_count": 190,
     "metadata": {},
     "output_type": "execute_result"
    }
   ],
   "source": [
    "dftemp.isna().sum()"
   ]
  },
  {
   "cell_type": "code",
   "execution_count": 191,
   "id": "unknown-glossary",
   "metadata": {},
   "outputs": [
    {
     "data": {
      "text/html": [
       "<div>\n",
       "<style scoped>\n",
       "    .dataframe tbody tr th:only-of-type {\n",
       "        vertical-align: middle;\n",
       "    }\n",
       "\n",
       "    .dataframe tbody tr th {\n",
       "        vertical-align: top;\n",
       "    }\n",
       "\n",
       "    .dataframe thead th {\n",
       "        text-align: right;\n",
       "    }\n",
       "</style>\n",
       "<table border=\"1\" class=\"dataframe\">\n",
       "  <thead>\n",
       "    <tr style=\"text-align: right;\">\n",
       "      <th></th>\n",
       "      <th>title</th>\n",
       "      <th>rating</th>\n",
       "      <th>calories</th>\n",
       "      <th>protein</th>\n",
       "      <th>fat</th>\n",
       "      <th>sodium</th>\n",
       "    </tr>\n",
       "  </thead>\n",
       "  <tbody>\n",
       "    <tr>\n",
       "      <th>0</th>\n",
       "      <td>Lentil, Apple, and Turkey Wrap</td>\n",
       "      <td>2.500</td>\n",
       "      <td>426.0</td>\n",
       "      <td>30.0</td>\n",
       "      <td>7.0</td>\n",
       "      <td>559.0</td>\n",
       "    </tr>\n",
       "    <tr>\n",
       "      <th>1</th>\n",
       "      <td>Boudin Blanc Terrine with Red Onion Confit</td>\n",
       "      <td>4.375</td>\n",
       "      <td>403.0</td>\n",
       "      <td>18.0</td>\n",
       "      <td>23.0</td>\n",
       "      <td>1439.0</td>\n",
       "    </tr>\n",
       "    <tr>\n",
       "      <th>2</th>\n",
       "      <td>Potato and Fennel Soup Hodge</td>\n",
       "      <td>3.750</td>\n",
       "      <td>165.0</td>\n",
       "      <td>6.0</td>\n",
       "      <td>7.0</td>\n",
       "      <td>165.0</td>\n",
       "    </tr>\n",
       "    <tr>\n",
       "      <th>4</th>\n",
       "      <td>Spinach Noodle Casserole</td>\n",
       "      <td>3.125</td>\n",
       "      <td>547.0</td>\n",
       "      <td>20.0</td>\n",
       "      <td>32.0</td>\n",
       "      <td>452.0</td>\n",
       "    </tr>\n",
       "    <tr>\n",
       "      <th>5</th>\n",
       "      <td>The Best Blts</td>\n",
       "      <td>4.375</td>\n",
       "      <td>948.0</td>\n",
       "      <td>19.0</td>\n",
       "      <td>79.0</td>\n",
       "      <td>1042.0</td>\n",
       "    </tr>\n",
       "  </tbody>\n",
       "</table>\n",
       "</div>"
      ],
      "text/plain": [
       "                                         title  rating  calories  protein  \\\n",
       "0              Lentil, Apple, and Turkey Wrap    2.500     426.0     30.0   \n",
       "1  Boudin Blanc Terrine with Red Onion Confit    4.375     403.0     18.0   \n",
       "2                Potato and Fennel Soup Hodge    3.750     165.0      6.0   \n",
       "4                    Spinach Noodle Casserole    3.125     547.0     20.0   \n",
       "5                               The Best Blts    4.375     948.0     19.0   \n",
       "\n",
       "    fat  sodium  \n",
       "0   7.0   559.0  \n",
       "1  23.0  1439.0  \n",
       "2   7.0   165.0  \n",
       "4  32.0   452.0  \n",
       "5  79.0  1042.0  "
      ]
     },
     "execution_count": 191,
     "metadata": {},
     "output_type": "execute_result"
    }
   ],
   "source": [
    "dftemp.head()"
   ]
  },
  {
   "cell_type": "code",
   "execution_count": 192,
   "id": "english-ontario",
   "metadata": {},
   "outputs": [
    {
     "data": {
      "text/html": [
       "<div>\n",
       "<style scoped>\n",
       "    .dataframe tbody tr th:only-of-type {\n",
       "        vertical-align: middle;\n",
       "    }\n",
       "\n",
       "    .dataframe tbody tr th {\n",
       "        vertical-align: top;\n",
       "    }\n",
       "\n",
       "    .dataframe thead th {\n",
       "        text-align: right;\n",
       "    }\n",
       "</style>\n",
       "<table border=\"1\" class=\"dataframe\">\n",
       "  <thead>\n",
       "    <tr style=\"text-align: right;\">\n",
       "      <th></th>\n",
       "      <th>rating</th>\n",
       "      <th>calories</th>\n",
       "      <th>protein</th>\n",
       "      <th>fat</th>\n",
       "      <th>sodium</th>\n",
       "    </tr>\n",
       "  </thead>\n",
       "  <tbody>\n",
       "    <tr>\n",
       "      <th>count</th>\n",
       "      <td>15864.000000</td>\n",
       "      <td>1.586400e+04</td>\n",
       "      <td>15864.000000</td>\n",
       "      <td>1.586400e+04</td>\n",
       "      <td>1.586400e+04</td>\n",
       "    </tr>\n",
       "    <tr>\n",
       "      <th>mean</th>\n",
       "      <td>3.760952</td>\n",
       "      <td>6.350683e+03</td>\n",
       "      <td>100.324571</td>\n",
       "      <td>3.469868e+02</td>\n",
       "      <td>6.252742e+03</td>\n",
       "    </tr>\n",
       "    <tr>\n",
       "      <th>std</th>\n",
       "      <td>1.285518</td>\n",
       "      <td>3.598484e+05</td>\n",
       "      <td>3843.462312</td>\n",
       "      <td>2.045933e+04</td>\n",
       "      <td>3.340421e+05</td>\n",
       "    </tr>\n",
       "    <tr>\n",
       "      <th>min</th>\n",
       "      <td>0.000000</td>\n",
       "      <td>0.000000e+00</td>\n",
       "      <td>0.000000</td>\n",
       "      <td>0.000000e+00</td>\n",
       "      <td>0.000000e+00</td>\n",
       "    </tr>\n",
       "    <tr>\n",
       "      <th>25%</th>\n",
       "      <td>3.750000</td>\n",
       "      <td>1.990000e+02</td>\n",
       "      <td>3.000000</td>\n",
       "      <td>7.000000e+00</td>\n",
       "      <td>8.200000e+01</td>\n",
       "    </tr>\n",
       "    <tr>\n",
       "      <th>50%</th>\n",
       "      <td>4.375000</td>\n",
       "      <td>3.330000e+02</td>\n",
       "      <td>8.000000</td>\n",
       "      <td>1.700000e+01</td>\n",
       "      <td>2.960000e+02</td>\n",
       "    </tr>\n",
       "    <tr>\n",
       "      <th>75%</th>\n",
       "      <td>4.375000</td>\n",
       "      <td>5.872500e+02</td>\n",
       "      <td>27.000000</td>\n",
       "      <td>3.300000e+01</td>\n",
       "      <td>7.130000e+02</td>\n",
       "    </tr>\n",
       "    <tr>\n",
       "      <th>max</th>\n",
       "      <td>5.000000</td>\n",
       "      <td>3.011122e+07</td>\n",
       "      <td>236489.000000</td>\n",
       "      <td>1.722763e+06</td>\n",
       "      <td>2.767511e+07</td>\n",
       "    </tr>\n",
       "  </tbody>\n",
       "</table>\n",
       "</div>"
      ],
      "text/plain": [
       "             rating      calories        protein           fat        sodium\n",
       "count  15864.000000  1.586400e+04   15864.000000  1.586400e+04  1.586400e+04\n",
       "mean       3.760952  6.350683e+03     100.324571  3.469868e+02  6.252742e+03\n",
       "std        1.285518  3.598484e+05    3843.462312  2.045933e+04  3.340421e+05\n",
       "min        0.000000  0.000000e+00       0.000000  0.000000e+00  0.000000e+00\n",
       "25%        3.750000  1.990000e+02       3.000000  7.000000e+00  8.200000e+01\n",
       "50%        4.375000  3.330000e+02       8.000000  1.700000e+01  2.960000e+02\n",
       "75%        4.375000  5.872500e+02      27.000000  3.300000e+01  7.130000e+02\n",
       "max        5.000000  3.011122e+07  236489.000000  1.722763e+06  2.767511e+07"
      ]
     },
     "execution_count": 192,
     "metadata": {},
     "output_type": "execute_result"
    }
   ],
   "source": [
    "dftemp.describe()"
   ]
  },
  {
   "cell_type": "code",
   "execution_count": 193,
   "id": "radio-gathering",
   "metadata": {},
   "outputs": [],
   "source": [
    "food_metadata = dftemp"
   ]
  },
  {
   "cell_type": "code",
   "execution_count": 195,
   "id": "guided-dining",
   "metadata": {},
   "outputs": [
    {
     "name": "stdout",
     "output_type": "stream",
     "text": [
      "<class 'pandas.core.frame.DataFrame'>\n",
      "Int64Index: 15864 entries, 0 to 20051\n",
      "Columns: 680 entries, title to turkey\n",
      "dtypes: float64(679), object(1)\n",
      "memory usage: 82.4+ MB\n"
     ]
    }
   ],
   "source": [
    "food_metadata.info()"
   ]
  },
  {
   "cell_type": "code",
   "execution_count": 196,
   "id": "planned-benefit",
   "metadata": {},
   "outputs": [],
   "source": [
    "#df2 = pd.DataFrame({'Protein': food_metadata['protein']}, index=food_metadata['title'])\n",
    "#ax = df2.plot.bar(rot=0)"
   ]
  },
  {
   "cell_type": "code",
   "execution_count": 199,
   "id": "atmospheric-heating",
   "metadata": {},
   "outputs": [
    {
     "data": {
      "text/html": [
       "<div>\n",
       "<style scoped>\n",
       "    .dataframe tbody tr th:only-of-type {\n",
       "        vertical-align: middle;\n",
       "    }\n",
       "\n",
       "    .dataframe tbody tr th {\n",
       "        vertical-align: top;\n",
       "    }\n",
       "\n",
       "    .dataframe thead th {\n",
       "        text-align: right;\n",
       "    }\n",
       "</style>\n",
       "<table border=\"1\" class=\"dataframe\">\n",
       "  <thead>\n",
       "    <tr style=\"text-align: right;\">\n",
       "      <th></th>\n",
       "      <th>title</th>\n",
       "      <th>rating</th>\n",
       "      <th>calories</th>\n",
       "      <th>protein</th>\n",
       "      <th>fat</th>\n",
       "      <th>sodium</th>\n",
       "      <th>#cakeweek</th>\n",
       "      <th>#wasteless</th>\n",
       "      <th>22-minute meals</th>\n",
       "      <th>3-ingredient recipes</th>\n",
       "      <th>...</th>\n",
       "      <th>yellow squash</th>\n",
       "      <th>yogurt</th>\n",
       "      <th>yonkers</th>\n",
       "      <th>yuca</th>\n",
       "      <th>zucchini</th>\n",
       "      <th>cookbooks</th>\n",
       "      <th>leftovers</th>\n",
       "      <th>snack</th>\n",
       "      <th>snack week</th>\n",
       "      <th>turkey</th>\n",
       "    </tr>\n",
       "  </thead>\n",
       "  <tbody>\n",
       "    <tr>\n",
       "      <th>14922</th>\n",
       "      <td>Grilled Chicken and Vegetable Sandwiches with ...</td>\n",
       "      <td>4.375</td>\n",
       "      <td>500.0</td>\n",
       "      <td>14.0</td>\n",
       "      <td>30.0</td>\n",
       "      <td>659.0</td>\n",
       "      <td>0.0</td>\n",
       "      <td>0.0</td>\n",
       "      <td>0.0</td>\n",
       "      <td>0.0</td>\n",
       "      <td>...</td>\n",
       "      <td>0.0</td>\n",
       "      <td>0.0</td>\n",
       "      <td>0.0</td>\n",
       "      <td>0.0</td>\n",
       "      <td>1.0</td>\n",
       "      <td>0.0</td>\n",
       "      <td>0.0</td>\n",
       "      <td>0.0</td>\n",
       "      <td>0.0</td>\n",
       "      <td>0.0</td>\n",
       "    </tr>\n",
       "    <tr>\n",
       "      <th>4278</th>\n",
       "      <td>Candied Cashews</td>\n",
       "      <td>5.000</td>\n",
       "      <td>230.0</td>\n",
       "      <td>6.0</td>\n",
       "      <td>18.0</td>\n",
       "      <td>124.0</td>\n",
       "      <td>0.0</td>\n",
       "      <td>0.0</td>\n",
       "      <td>0.0</td>\n",
       "      <td>0.0</td>\n",
       "      <td>...</td>\n",
       "      <td>0.0</td>\n",
       "      <td>0.0</td>\n",
       "      <td>0.0</td>\n",
       "      <td>0.0</td>\n",
       "      <td>0.0</td>\n",
       "      <td>0.0</td>\n",
       "      <td>0.0</td>\n",
       "      <td>0.0</td>\n",
       "      <td>0.0</td>\n",
       "      <td>0.0</td>\n",
       "    </tr>\n",
       "  </tbody>\n",
       "</table>\n",
       "<p>2 rows × 680 columns</p>\n",
       "</div>"
      ],
      "text/plain": [
       "                                                   title  rating  calories  \\\n",
       "14922  Grilled Chicken and Vegetable Sandwiches with ...   4.375     500.0   \n",
       "4278                                    Candied Cashews    5.000     230.0   \n",
       "\n",
       "       protein   fat  sodium  #cakeweek  #wasteless  22-minute meals  \\\n",
       "14922     14.0  30.0   659.0        0.0         0.0              0.0   \n",
       "4278       6.0  18.0   124.0        0.0         0.0              0.0   \n",
       "\n",
       "       3-ingredient recipes  ...  yellow squash  yogurt  yonkers  yuca  \\\n",
       "14922                   0.0  ...            0.0     0.0      0.0   0.0   \n",
       "4278                    0.0  ...            0.0     0.0      0.0   0.0   \n",
       "\n",
       "       zucchini  cookbooks  leftovers  snack  snack week  turkey  \n",
       "14922       1.0        0.0        0.0    0.0         0.0     0.0  \n",
       "4278        0.0        0.0        0.0    0.0         0.0     0.0  \n",
       "\n",
       "[2 rows x 680 columns]"
      ]
     },
     "execution_count": 199,
     "metadata": {},
     "output_type": "execute_result"
    }
   ],
   "source": [
    "food_metadata.sample(2)"
   ]
  },
  {
   "cell_type": "code",
   "execution_count": 197,
   "id": "convenient-baking",
   "metadata": {},
   "outputs": [
    {
     "data": {
      "text/plain": [
       "'261.0 3.0 15.0 119.0'"
      ]
     },
     "execution_count": 197,
     "metadata": {},
     "output_type": "execute_result"
    }
   ],
   "source": [
    "descriptions = food_metadata['calories'].apply(str) +' '+ food_metadata['protein'].apply(str) + ' ' + food_metadata['fat'].apply(str) +' '+ food_metadata['sodium'].apply(str)\n",
    "\n",
    "# Printing the first description\n",
    "descriptions[600]"
   ]
  },
  {
   "cell_type": "markdown",
   "id": "turned-mother",
   "metadata": {},
   "source": [
    "Creating a similarity matrix between the food items"
   ]
  },
  {
   "cell_type": "code",
   "execution_count": 172,
   "id": "associate-turkey",
   "metadata": {},
   "outputs": [],
   "source": [
    "# import TfidfVector from sklearn.\n",
    "\n",
    "from sklearn.feature_extraction.text import TfidfVectorizer\n",
    "from sklearn.metrics.pairwise import linear_kernel\n",
    "\n",
    "def create_similarity_matrix(new_description, overall_descriptions):\n",
    "#Append the new description to the overall set.\n",
    "        overall_descriptions.append(new_description)\n",
    "        # Define a tfidf vectorizer and remove all stopwords.\n",
    "        tfidf = TfidfVectorizer(stop_words = \"english\")\n",
    "        #Convert tfidf matrix by fitting and transforming the data.\n",
    "        tfidf_matrix = tfidf.fit_transform(overall_descriptions)\n",
    "        # output the shape of the matrix.\n",
    "        tfidf_matrix.shape\n",
    "        # calculating the cosine similarity matrix.\n",
    "        cosine_sim = linear_kernel(tfidf_matrix, tfidf_matrix)\n",
    "        \n",
    "        return cosine_sim"
   ]
  },
  {
   "cell_type": "markdown",
   "id": "connected-feature",
   "metadata": {},
   "source": [
    "defining the get_recommendations() function"
   ]
  },
  {
   "cell_type": "code",
   "execution_count": 173,
   "id": "bulgarian-howard",
   "metadata": {},
   "outputs": [],
   "source": [
    "def get_recommendations(new_description,overall_descriptions):\n",
    "    # create the similarity matrix\n",
    "    cosine_sim = create_similarity_matrix(new_description, overall_descriptions)\n",
    "    # Get pairwise similarity scores of all the students with new student.\n",
    "    sim_scores = list(enumerate(cosine_sim[-1]))\n",
    "    # Sort the descriptions based on similarity score.\n",
    "    sim_scores = sorted(sim_scores, key = lambda x:x[1], reverse = True )\n",
    "    # Get the scores of top 10 descriptions.\n",
    "    sim_scores = sim_scores[1:10]\n",
    "    # Get the student indices.\n",
    "    indices = [i[0]for i in sim_scores]\n",
    "    \n",
    "    return df.iloc[indices]"
   ]
  },
  {
   "cell_type": "code",
   "execution_count": 174,
   "id": "sensitive-nature",
   "metadata": {},
   "outputs": [],
   "source": [
    "# Recommend the food to a new user.\n",
    "\n",
    "new_description = pd.Series('28.0 2.0 2.0 6.0')\n",
    "output = get_recommendations(new_description, descriptions)"
   ]
  },
  {
   "cell_type": "code",
   "execution_count": 175,
   "id": "narrow-norman",
   "metadata": {},
   "outputs": [],
   "source": [
    "output = output.sort_values(by=['rating'], ascending=False) #sorting the recommendations by rating"
   ]
  },
  {
   "cell_type": "markdown",
   "id": "chief-thesaurus",
   "metadata": {},
   "source": [
    "### Final List of Recommendations (output)"
   ]
  },
  {
   "cell_type": "code",
   "execution_count": 176,
   "id": "rapid-artwork",
   "metadata": {},
   "outputs": [
    {
     "data": {
      "text/plain": [
       "9522      Maple-Glazed Parsnips with Popped Mustard Seeds \n",
       "15105                                Miso Glazed Sea Bass \n",
       "6531     Spaghetti with Sweet 100 Tomatoes, Garlic Chiv...\n",
       "8102            Curried Parsnip Soup with Shredded Apples \n",
       "104                                          Stout Floats \n",
       "10332    Rum Cake with Rum Raisin Ice Cream and Island ...\n",
       "11516                                Chile-Infused Aperol \n",
       "16635                                Chile-Infused Aperol \n",
       "14705    Lemon Pudding Filled Coconut Cupcakes with Sha...\n",
       "Name: title, dtype: object"
      ]
     },
     "execution_count": 176,
     "metadata": {},
     "output_type": "execute_result"
    }
   ],
   "source": [
    "output['title'] #"
   ]
  },
  {
   "cell_type": "markdown",
   "id": "happy-emergency",
   "metadata": {},
   "source": [
    "### Exporting model using keras"
   ]
  },
  {
   "cell_type": "code",
   "execution_count": 177,
   "id": "large-affect",
   "metadata": {},
   "outputs": [],
   "source": [
    "from tensorflow.keras.models import load_model\n",
    "from sklearn.model_selection import train_test_split\n",
    "from tensorflow.keras.layers import Input, Embedding, Flatten, Dot, Dense, Concatenate\n",
    "from tensorflow.keras.models import Model\n",
    "warnings.filterwarnings('ignore')\n",
    "%matplotlib inline"
   ]
  },
  {
   "cell_type": "code",
   "execution_count": 178,
   "id": "thorough-picnic",
   "metadata": {},
   "outputs": [
    {
     "data": {
      "text/html": [
       "<div>\n",
       "<style scoped>\n",
       "    .dataframe tbody tr th:only-of-type {\n",
       "        vertical-align: middle;\n",
       "    }\n",
       "\n",
       "    .dataframe tbody tr th {\n",
       "        vertical-align: top;\n",
       "    }\n",
       "\n",
       "    .dataframe thead th {\n",
       "        text-align: right;\n",
       "    }\n",
       "</style>\n",
       "<table border=\"1\" class=\"dataframe\">\n",
       "  <thead>\n",
       "    <tr style=\"text-align: right;\">\n",
       "      <th></th>\n",
       "      <th>title</th>\n",
       "      <th>rating</th>\n",
       "      <th>calories</th>\n",
       "      <th>protein</th>\n",
       "      <th>fat</th>\n",
       "      <th>sodium</th>\n",
       "    </tr>\n",
       "  </thead>\n",
       "  <tbody>\n",
       "    <tr>\n",
       "      <th>0</th>\n",
       "      <td>Lentil, Apple, and Turkey Wrap</td>\n",
       "      <td>2.500</td>\n",
       "      <td>426.0</td>\n",
       "      <td>30.0</td>\n",
       "      <td>7.0</td>\n",
       "      <td>559.0</td>\n",
       "    </tr>\n",
       "    <tr>\n",
       "      <th>1</th>\n",
       "      <td>Boudin Blanc Terrine with Red Onion Confit</td>\n",
       "      <td>4.375</td>\n",
       "      <td>403.0</td>\n",
       "      <td>18.0</td>\n",
       "      <td>23.0</td>\n",
       "      <td>1439.0</td>\n",
       "    </tr>\n",
       "    <tr>\n",
       "      <th>2</th>\n",
       "      <td>Potato and Fennel Soup Hodge</td>\n",
       "      <td>3.750</td>\n",
       "      <td>165.0</td>\n",
       "      <td>6.0</td>\n",
       "      <td>7.0</td>\n",
       "      <td>165.0</td>\n",
       "    </tr>\n",
       "    <tr>\n",
       "      <th>4</th>\n",
       "      <td>Spinach Noodle Casserole</td>\n",
       "      <td>3.125</td>\n",
       "      <td>547.0</td>\n",
       "      <td>20.0</td>\n",
       "      <td>32.0</td>\n",
       "      <td>452.0</td>\n",
       "    </tr>\n",
       "    <tr>\n",
       "      <th>5</th>\n",
       "      <td>The Best Blts</td>\n",
       "      <td>4.375</td>\n",
       "      <td>948.0</td>\n",
       "      <td>19.0</td>\n",
       "      <td>79.0</td>\n",
       "      <td>1042.0</td>\n",
       "    </tr>\n",
       "  </tbody>\n",
       "</table>\n",
       "</div>"
      ],
      "text/plain": [
       "                                         title  rating  calories  protein  \\\n",
       "0              Lentil, Apple, and Turkey Wrap    2.500     426.0     30.0   \n",
       "1  Boudin Blanc Terrine with Red Onion Confit    4.375     403.0     18.0   \n",
       "2                Potato and Fennel Soup Hodge    3.750     165.0      6.0   \n",
       "4                    Spinach Noodle Casserole    3.125     547.0     20.0   \n",
       "5                               The Best Blts    4.375     948.0     19.0   \n",
       "\n",
       "    fat  sodium  \n",
       "0   7.0   559.0  \n",
       "1  23.0  1439.0  \n",
       "2   7.0   165.0  \n",
       "4  32.0   452.0  \n",
       "5  79.0  1042.0  "
      ]
     },
     "execution_count": 178,
     "metadata": {},
     "output_type": "execute_result"
    }
   ],
   "source": [
    "df.head()"
   ]
  },
  {
   "cell_type": "code",
   "execution_count": 179,
   "id": "radical-happiness",
   "metadata": {},
   "outputs": [],
   "source": [
    "train, test = train_test_split(df, test_size=0.2, random_state=42)"
   ]
  },
  {
   "cell_type": "code",
   "execution_count": 180,
   "id": "comparative-thursday",
   "metadata": {},
   "outputs": [],
   "source": [
    "n_cal = len(df['calories'].unique())\n",
    "n_protein = len(df['protein'].unique())\n",
    "n_fat = len(df['fat'].unique())\n",
    "n_sodium = len(df['sodium'].unique())"
   ]
  },
  {
   "cell_type": "code",
   "execution_count": 181,
   "id": "precious-surname",
   "metadata": {},
   "outputs": [
    {
     "name": "stdout",
     "output_type": "stream",
     "text": [
      "1858\n",
      "282\n",
      "326\n",
      "2433\n"
     ]
    }
   ],
   "source": [
    "print(n_cal)\n",
    "print(n_protein)\n",
    "print(n_fat)\n",
    "print(n_sodium)"
   ]
  },
  {
   "cell_type": "code",
   "execution_count": 182,
   "id": "heard-lodge",
   "metadata": {},
   "outputs": [
    {
     "name": "stdout",
     "output_type": "stream",
     "text": [
      "Model: \"model_7\"\n",
      "__________________________________________________________________________________________________\n",
      "Layer (type)                    Output Shape         Param #     Connected to                     \n",
      "==================================================================================================\n",
      "Calorie-Input (InputLayer)      [(None, 1)]          0                                            \n",
      "__________________________________________________________________________________________________\n",
      "Protein-Input (InputLayer)      [(None, 1)]          0                                            \n",
      "__________________________________________________________________________________________________\n",
      "fat-Input (InputLayer)          [(None, 1)]          0                                            \n",
      "__________________________________________________________________________________________________\n",
      "sodium-Input (InputLayer)       [(None, 1)]          0                                            \n",
      "__________________________________________________________________________________________________\n",
      "Calorie-Embedding (Embedding)   (None, 1, 5)         9295        Calorie-Input[0][0]              \n",
      "__________________________________________________________________________________________________\n",
      "Protein-Embedding (Embedding)   (None, 1, 5)         1415        Protein-Input[0][0]              \n",
      "__________________________________________________________________________________________________\n",
      "fat-Embedding (Embedding)       (None, 1, 5)         1635        fat-Input[0][0]                  \n",
      "__________________________________________________________________________________________________\n",
      "sodium-Embedding (Embedding)    (None, 1, 5)         12170       sodium-Input[0][0]               \n",
      "__________________________________________________________________________________________________\n",
      "Flatten-Calorie (Flatten)       (None, 5)            0           Calorie-Embedding[0][0]          \n",
      "__________________________________________________________________________________________________\n",
      "Flatten-Protein (Flatten)       (None, 5)            0           Protein-Embedding[0][0]          \n",
      "__________________________________________________________________________________________________\n",
      "Flatten-fat (Flatten)           (None, 5)            0           fat-Embedding[0][0]              \n",
      "__________________________________________________________________________________________________\n",
      "Flatten-sodium (Flatten)        (None, 5)            0           sodium-Embedding[0][0]           \n",
      "__________________________________________________________________________________________________\n",
      "concatenate_10 (Concatenate)    (None, 20)           0           Flatten-Calorie[0][0]            \n",
      "                                                                 Flatten-Protein[0][0]            \n",
      "                                                                 Flatten-fat[0][0]                \n",
      "                                                                 Flatten-sodium[0][0]             \n",
      "__________________________________________________________________________________________________\n",
      "dense_27 (Dense)                (None, 128)          2688        concatenate_10[0][0]             \n",
      "__________________________________________________________________________________________________\n",
      "dense_28 (Dense)                (None, 32)           4128        dense_27[0][0]                   \n",
      "__________________________________________________________________________________________________\n",
      "dense_29 (Dense)                (None, 1)            33          dense_28[0][0]                   \n",
      "==================================================================================================\n",
      "Total params: 31,364\n",
      "Trainable params: 31,364\n",
      "Non-trainable params: 0\n",
      "__________________________________________________________________________________________________\n"
     ]
    }
   ],
   "source": [
    "from tensorflow.keras.layers import Input, Embedding, Flatten, Dot, Dense\n",
    "from tensorflow.keras.models import Model\n",
    "\n",
    "calories_input = Input(shape=[1], name=\"Calorie-Input\")\n",
    "calories_embedding = Embedding(n_cal+1, 5, name=\"Calorie-Embedding\")(calories_input)\n",
    "calories_vec = Flatten(name=\"Flatten-Calorie\")(calories_embedding)\n",
    "\n",
    "pro_input = Input(shape=[1], name=\"Protein-Input\")\n",
    "pro_embedding = Embedding(n_protein+1, 5, name=\"Protein-Embedding\")(pro_input)\n",
    "pro_vec = Flatten(name=\"Flatten-Protein\")(pro_embedding)\n",
    "\n",
    "fat_input = Input(shape=[1], name=\"fat-Input\")\n",
    "fat_embedding = Embedding(n_fat+1, 5, name=\"fat-Embedding\")(fat_input)\n",
    "fat_vec = Flatten(name=\"Flatten-fat\")(fat_embedding)\n",
    "\n",
    "sod_input = Input(shape=[1], name=\"sodium-Input\")\n",
    "sod_embedding = Embedding(n_sodium+1, 5, name=\"sodium-Embedding\")(sod_input)\n",
    "sod_vec = Flatten(name=\"Flatten-sodium\")(sod_embedding)\n",
    "\n",
    "# concatenate features\n",
    "conc = Concatenate()([calories_vec, pro_vec, fat_vec, sod_vec])\n",
    "\n",
    "# add fully-connected-layers\n",
    "fc1 = Dense(128, activation='relu')(conc)\n",
    "fc2 = Dense(32, activation='relu')(fc1)\n",
    "out = Dense(1)(fc2)\n",
    "\n",
    "# Create model and compile it\n",
    "model = Model([calories_input, pro_input, fat_input, sod_input], out)\n",
    "model.compile('adam', 'mean_squared_error')\n",
    "model.summary()"
   ]
  },
  {
   "cell_type": "code",
   "execution_count": 1,
   "id": "answering-brick",
   "metadata": {},
   "outputs": [],
   "source": [
    "# Fittiing the model and saving it\n",
    "\n",
    "#history = model.fit([train.calories, train.protein, train.fat, train.sodium], train.rating, epochs=10, verbose=1)\n",
    "#model.save('meals_model.h5')"
   ]
  },
  {
   "cell_type": "code",
   "execution_count": null,
   "id": "eleven-essence",
   "metadata": {},
   "outputs": [],
   "source": []
  }
 ],
 "metadata": {
  "kernelspec": {
   "display_name": "Python 3",
   "language": "python",
   "name": "python3"
  },
  "language_info": {
   "codemirror_mode": {
    "name": "ipython",
    "version": 3
   },
   "file_extension": ".py",
   "mimetype": "text/x-python",
   "name": "python",
   "nbconvert_exporter": "python",
   "pygments_lexer": "ipython3",
   "version": "3.7.9"
  }
 },
 "nbformat": 4,
 "nbformat_minor": 5
}
